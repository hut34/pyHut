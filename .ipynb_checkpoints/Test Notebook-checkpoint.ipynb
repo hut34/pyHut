{
 "cells": [
  {
   "cell_type": "markdown",
   "metadata": {},
   "source": [
    "## Introduction\n",
    "Test for the pyhut library:\n",
    "- Show available datasets\n",
    "- Load datasets from a hub into a panda dataframe"
   ]
  },
  {
   "cell_type": "code",
   "execution_count": 1,
   "metadata": {},
   "outputs": [],
   "source": [
    "import numpy as np\n",
    "import pandas as pd\n",
    "import pyhut as ph"
   ]
  },
  {
   "cell_type": "code",
   "execution_count": 2,
   "metadata": {},
   "outputs": [
    {
     "data": {
      "text/html": [
       "<div>\n",
       "<style scoped>\n",
       "    .dataframe tbody tr th:only-of-type {\n",
       "        vertical-align: middle;\n",
       "    }\n",
       "\n",
       "    .dataframe tbody tr th {\n",
       "        vertical-align: top;\n",
       "    }\n",
       "\n",
       "    .dataframe thead th {\n",
       "        text-align: right;\n",
       "    }\n",
       "</style>\n",
       "<table border=\"1\" class=\"dataframe\">\n",
       "  <thead>\n",
       "    <tr style=\"text-align: right;\">\n",
       "      <th></th>\n",
       "      <th>ENTRPPrice</th>\n",
       "      <th>coverImage</th>\n",
       "      <th>description</th>\n",
       "      <th>name</th>\n",
       "    </tr>\n",
       "  </thead>\n",
       "  <tbody>\n",
       "    <tr>\n",
       "      <th>2lt1scK0kZrgEI1yQxnb</th>\n",
       "      <td>1.01</td>\n",
       "      <td></td>\n",
       "      <td>testing custodial data in a hybrid hub</td>\n",
       "      <td>AU Broadband data</td>\n",
       "    </tr>\n",
       "    <tr>\n",
       "      <th>GGQ3wHSAfbdzVxV4atYp</th>\n",
       "      <td>2.7878</td>\n",
       "      <td>https://images.unsplash.com/photo-156908452053...</td>\n",
       "      <td>Test data</td>\n",
       "      <td>New Test</td>\n",
       "    </tr>\n",
       "  </tbody>\n",
       "</table>\n",
       "</div>"
      ],
      "text/plain": [
       "                     ENTRPPrice  \\\n",
       "2lt1scK0kZrgEI1yQxnb       1.01   \n",
       "GGQ3wHSAfbdzVxV4atYp     2.7878   \n",
       "\n",
       "                                                             coverImage  \\\n",
       "2lt1scK0kZrgEI1yQxnb                                                      \n",
       "GGQ3wHSAfbdzVxV4atYp  https://images.unsplash.com/photo-156908452053...   \n",
       "\n",
       "                                                 description  \\\n",
       "2lt1scK0kZrgEI1yQxnb  testing custodial data in a hybrid hub   \n",
       "GGQ3wHSAfbdzVxV4atYp                               Test data   \n",
       "\n",
       "                                   name  \n",
       "2lt1scK0kZrgEI1yQxnb  AU Broadband data  \n",
       "GGQ3wHSAfbdzVxV4atYp           New Test  "
      ]
     },
     "execution_count": 2,
     "metadata": {},
     "output_type": "execute_result"
    }
   ],
   "source": [
    "ph.show()"
   ]
  },
  {
   "cell_type": "code",
   "execution_count": 7,
   "metadata": {},
   "outputs": [],
   "source": [
    "my_df = ph.load('GGQ3wHSAfbdzVxV4atYp')"
   ]
  },
  {
   "cell_type": "code",
   "execution_count": 9,
   "metadata": {},
   "outputs": [
    {
     "data": {
      "text/html": [
       "<div>\n",
       "<style scoped>\n",
       "    .dataframe tbody tr th:only-of-type {\n",
       "        vertical-align: middle;\n",
       "    }\n",
       "\n",
       "    .dataframe tbody tr th {\n",
       "        vertical-align: top;\n",
       "    }\n",
       "\n",
       "    .dataframe thead th {\n",
       "        text-align: right;\n",
       "    }\n",
       "</style>\n",
       "<table border=\"1\" class=\"dataframe\">\n",
       "  <thead>\n",
       "    <tr style=\"text-align: right;\">\n",
       "      <th></th>\n",
       "      <th>Date</th>\n",
       "      <th>Task</th>\n",
       "      <th>Amount</th>\n",
       "    </tr>\n",
       "  </thead>\n",
       "  <tbody>\n",
       "    <tr>\n",
       "      <th>0</th>\n",
       "      <td>28/10/2019</td>\n",
       "      <td>Integrate non-custodial wallet</td>\n",
       "      <td>2</td>\n",
       "    </tr>\n",
       "    <tr>\n",
       "      <th>1</th>\n",
       "      <td>29/10/2019</td>\n",
       "      <td>Test everything on standard</td>\n",
       "      <td>2</td>\n",
       "    </tr>\n",
       "    <tr>\n",
       "      <th>2</th>\n",
       "      <td>29/10/2019</td>\n",
       "      <td>Move HutX2 to Honestybox Hub</td>\n",
       "      <td>2</td>\n",
       "    </tr>\n",
       "    <tr>\n",
       "      <th>3</th>\n",
       "      <td>06/11/2019</td>\n",
       "      <td>Play beach volleyball</td>\n",
       "      <td>10000</td>\n",
       "    </tr>\n",
       "    <tr>\n",
       "      <th>4</th>\n",
       "      <td>18/11/2019</td>\n",
       "      <td>Add additional features</td>\n",
       "      <td>700</td>\n",
       "    </tr>\n",
       "  </tbody>\n",
       "</table>\n",
       "</div>"
      ],
      "text/plain": [
       "         Date                            Task Amount\n",
       "0  28/10/2019  Integrate non-custodial wallet      2\n",
       "1  29/10/2019     Test everything on standard      2\n",
       "2  29/10/2019    Move HutX2 to Honestybox Hub      2\n",
       "3  06/11/2019           Play beach volleyball  10000\n",
       "4  18/11/2019         Add additional features    700"
      ]
     },
     "execution_count": 9,
     "metadata": {},
     "output_type": "execute_result"
    }
   ],
   "source": [
    "my_df.head()"
   ]
  },
  {
   "cell_type": "code",
   "execution_count": null,
   "metadata": {},
   "outputs": [],
   "source": []
  }
 ],
 "metadata": {
  "kernelspec": {
   "display_name": "Python 2",
   "language": "python",
   "name": "python2"
  },
  "language_info": {
   "codemirror_mode": {
    "name": "ipython",
    "version": 2
   },
   "file_extension": ".py",
   "mimetype": "text/x-python",
   "name": "python",
   "nbconvert_exporter": "python",
   "pygments_lexer": "ipython2",
   "version": "2.7.15"
  }
 },
 "nbformat": 4,
 "nbformat_minor": 2
}
